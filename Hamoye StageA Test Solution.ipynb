{
 "cells": [
  {
   "cell_type": "markdown",
   "id": "bee85b57",
   "metadata": {},
   "source": [
    "<div style=\"text-align: center;\">\n",
    "    <h1>HAMOYE STAGE A TEST CODE SOLUTIONS</h1>\n",
    "</div>\n"
   ]
  },
  {
   "cell_type": "markdown",
   "id": "831e3e06",
   "metadata": {},
   "source": [
    "## STEP ONE: LOAD NECESSARY LIBRARIES\n",
    "- Here, for the sake of this project, only the pandas libraies was used"
   ]
  },
  {
   "cell_type": "code",
   "execution_count": 1,
   "id": "dca819c2",
   "metadata": {},
   "outputs": [],
   "source": [
    "import pandas as pd"
   ]
  },
  {
   "cell_type": "markdown",
   "id": "18b82bfd",
   "metadata": {},
   "source": [
    "## STEP TWO: PERFORM DATA WRANGLING/CLEANING OPERATIONS\n",
    "1. Load the data\n",
    "2. Preview the data\n",
    "3. Check data type\n",
    "4. Check for missing values\n",
    "5. Check for duplicates\n",
    "6. Check for inconsistent data\n",
    "7. Explore basic statistics of the data\n"
   ]
  },
  {
   "cell_type": "markdown",
   "id": "62aba30b",
   "metadata": {},
   "source": [
    "## **1. Load the data**"
   ]
  },
  {
   "cell_type": "code",
   "execution_count": 2,
   "id": "b3c243a1",
   "metadata": {},
   "outputs": [],
   "source": [
    "url=\"https://github.com/HamoyeHQ/HDSC-Introduction-to-Python-for-machine-learning/files/7768140/FoodBalanceSheets_E_Africa_NOFLAG.csv\"\n",
    "data=pd.read_csv(url,encoding=\"latin-1\", on_bad_lines=\"skip\")"
   ]
  },
  {
   "cell_type": "markdown",
   "id": "725e9e4b",
   "metadata": {},
   "source": [
    "## **2. Preview the data**\n",
    "- Viewing the first five rows would give me a first-hand glimpse about the structure of the dataset and the information it contains"
   ]
  },
  {
   "cell_type": "code",
   "execution_count": 3,
   "id": "afc1d8f0",
   "metadata": {
    "scrolled": true
   },
   "outputs": [
    {
     "data": {
      "text/html": [
       "<div>\n",
       "<style scoped>\n",
       "    .dataframe tbody tr th:only-of-type {\n",
       "        vertical-align: middle;\n",
       "    }\n",
       "\n",
       "    .dataframe tbody tr th {\n",
       "        vertical-align: top;\n",
       "    }\n",
       "\n",
       "    .dataframe thead th {\n",
       "        text-align: right;\n",
       "    }\n",
       "</style>\n",
       "<table border=\"1\" class=\"dataframe\">\n",
       "  <thead>\n",
       "    <tr style=\"text-align: right;\">\n",
       "      <th></th>\n",
       "      <th>Area Code</th>\n",
       "      <th>Area</th>\n",
       "      <th>Item Code</th>\n",
       "      <th>Item</th>\n",
       "      <th>Element Code</th>\n",
       "      <th>Element</th>\n",
       "      <th>Unit</th>\n",
       "      <th>Y2014</th>\n",
       "      <th>Y2015</th>\n",
       "      <th>Y2016</th>\n",
       "      <th>Y2017</th>\n",
       "      <th>Y2018</th>\n",
       "    </tr>\n",
       "  </thead>\n",
       "  <tbody>\n",
       "    <tr>\n",
       "      <th>0</th>\n",
       "      <td>4</td>\n",
       "      <td>Algeria</td>\n",
       "      <td>2501</td>\n",
       "      <td>Population</td>\n",
       "      <td>511</td>\n",
       "      <td>Total Population - Both sexes</td>\n",
       "      <td>1000 persons</td>\n",
       "      <td>38924.00</td>\n",
       "      <td>39728.00</td>\n",
       "      <td>40551.00</td>\n",
       "      <td>41389.00</td>\n",
       "      <td>42228.00</td>\n",
       "    </tr>\n",
       "    <tr>\n",
       "      <th>1</th>\n",
       "      <td>4</td>\n",
       "      <td>Algeria</td>\n",
       "      <td>2501</td>\n",
       "      <td>Population</td>\n",
       "      <td>5301</td>\n",
       "      <td>Domestic supply quantity</td>\n",
       "      <td>1000 tonnes</td>\n",
       "      <td>0.00</td>\n",
       "      <td>0.00</td>\n",
       "      <td>0.00</td>\n",
       "      <td>0.00</td>\n",
       "      <td>0.00</td>\n",
       "    </tr>\n",
       "    <tr>\n",
       "      <th>2</th>\n",
       "      <td>4</td>\n",
       "      <td>Algeria</td>\n",
       "      <td>2901</td>\n",
       "      <td>Grand Total</td>\n",
       "      <td>664</td>\n",
       "      <td>Food supply (kcal/capita/day)</td>\n",
       "      <td>kcal/capita/day</td>\n",
       "      <td>3377.00</td>\n",
       "      <td>3379.00</td>\n",
       "      <td>3372.00</td>\n",
       "      <td>3341.00</td>\n",
       "      <td>3322.00</td>\n",
       "    </tr>\n",
       "    <tr>\n",
       "      <th>3</th>\n",
       "      <td>4</td>\n",
       "      <td>Algeria</td>\n",
       "      <td>2901</td>\n",
       "      <td>Grand Total</td>\n",
       "      <td>674</td>\n",
       "      <td>Protein supply quantity (g/capita/day)</td>\n",
       "      <td>g/capita/day</td>\n",
       "      <td>94.90</td>\n",
       "      <td>94.35</td>\n",
       "      <td>94.72</td>\n",
       "      <td>92.82</td>\n",
       "      <td>91.83</td>\n",
       "    </tr>\n",
       "    <tr>\n",
       "      <th>4</th>\n",
       "      <td>4</td>\n",
       "      <td>Algeria</td>\n",
       "      <td>2901</td>\n",
       "      <td>Grand Total</td>\n",
       "      <td>684</td>\n",
       "      <td>Fat supply quantity (g/capita/day)</td>\n",
       "      <td>g/capita/day</td>\n",
       "      <td>80.06</td>\n",
       "      <td>79.36</td>\n",
       "      <td>77.40</td>\n",
       "      <td>80.19</td>\n",
       "      <td>77.28</td>\n",
       "    </tr>\n",
       "  </tbody>\n",
       "</table>\n",
       "</div>"
      ],
      "text/plain": [
       "   Area Code     Area  Item Code         Item  Element Code  \\\n",
       "0          4  Algeria       2501   Population           511   \n",
       "1          4  Algeria       2501   Population          5301   \n",
       "2          4  Algeria       2901  Grand Total           664   \n",
       "3          4  Algeria       2901  Grand Total           674   \n",
       "4          4  Algeria       2901  Grand Total           684   \n",
       "\n",
       "                                  Element             Unit     Y2014  \\\n",
       "0           Total Population - Both sexes     1000 persons  38924.00   \n",
       "1                Domestic supply quantity      1000 tonnes      0.00   \n",
       "2           Food supply (kcal/capita/day)  kcal/capita/day   3377.00   \n",
       "3  Protein supply quantity (g/capita/day)     g/capita/day     94.90   \n",
       "4      Fat supply quantity (g/capita/day)     g/capita/day     80.06   \n",
       "\n",
       "      Y2015     Y2016     Y2017     Y2018  \n",
       "0  39728.00  40551.00  41389.00  42228.00  \n",
       "1      0.00      0.00      0.00      0.00  \n",
       "2   3379.00   3372.00   3341.00   3322.00  \n",
       "3     94.35     94.72     92.82     91.83  \n",
       "4     79.36     77.40     80.19     77.28  "
      ]
     },
     "execution_count": 3,
     "metadata": {},
     "output_type": "execute_result"
    }
   ],
   "source": [
    "data.head()"
   ]
  },
  {
   "cell_type": "markdown",
   "id": "ab9edacb",
   "metadata": {},
   "source": [
    "## **3. Check data type**\n",
    "- I would like to check if every column in the dataset contains a unique(the same) data types\n",
    "- In order not to waste time by using the dtype() on each column, I will prefer to use a for-loop statement to perform this task across the whole dataset columns at once"
   ]
  },
  {
   "cell_type": "code",
   "execution_count": 4,
   "id": "71bd5a45",
   "metadata": {},
   "outputs": [
    {
     "name": "stdout",
     "output_type": "stream",
     "text": [
      "    COLUMN NAMES  UNIQUE DATA TYPES\n",
      "0      Area Code    [<class 'int'>]\n",
      "1           Area    [<class 'str'>]\n",
      "2      Item Code    [<class 'int'>]\n",
      "3           Item    [<class 'str'>]\n",
      "4   Element Code    [<class 'int'>]\n",
      "5        Element    [<class 'str'>]\n",
      "6           Unit    [<class 'str'>]\n",
      "7          Y2014  [<class 'float'>]\n",
      "8          Y2015  [<class 'float'>]\n",
      "9          Y2016  [<class 'float'>]\n",
      "10         Y2017  [<class 'float'>]\n",
      "11         Y2018  [<class 'float'>]\n"
     ]
    }
   ],
   "source": [
    "# Create an empty DataFrame to store the results\n",
    "data_type_df = pd.DataFrame(columns=['COLUMN NAMES', 'UNIQUE DATA TYPES'])\n",
    "\n",
    "# Iterate through columns and store unique data types in the new DataFrame\n",
    "for column_name in data.columns:\n",
    "    unique_data_types = data[column_name].apply(type).unique()\n",
    "    \n",
    "    #data_type_df = data_type_df.append({'COLUMN NAME': column_name, 'UNIQUE DATA TYPES': unique_data_types}, ignore_index=True)\n",
    "    data_type_df = pd.concat([data_type_df, pd.DataFrame({'COLUMN NAMES': [column_name], 'UNIQUE DATA TYPES': [unique_data_types]})],ignore_index=True)\n",
    "\n",
    "# Display the resulting table\n",
    "print(data_type_df)"
   ]
  },
  {
   "cell_type": "markdown",
   "id": "40b46aa9",
   "metadata": {},
   "source": [
    "### **INFERENCE:**\n",
    "- Each column contains a unique data type, hence there would be no need for any type casting"
   ]
  },
  {
   "cell_type": "markdown",
   "id": "ef0f6b2d",
   "metadata": {},
   "source": [
    "## **4. Check for missing values**"
   ]
  },
  {
   "cell_type": "code",
   "execution_count": 5,
   "id": "c12bb9eb",
   "metadata": {},
   "outputs": [
    {
     "data": {
      "text/plain": [
       "Area Code          0\n",
       "Area               0\n",
       "Item Code          0\n",
       "Item               0\n",
       "Element Code       0\n",
       "Element            0\n",
       "Unit               0\n",
       "Y2014           1589\n",
       "Y2015           1548\n",
       "Y2016           1535\n",
       "Y2017           1506\n",
       "Y2018           1436\n",
       "dtype: int64"
      ]
     },
     "execution_count": 5,
     "metadata": {},
     "output_type": "execute_result"
    }
   ],
   "source": [
    "data.isnull().sum()"
   ]
  },
  {
   "cell_type": "markdown",
   "id": "f93ae8b5",
   "metadata": {},
   "source": [
    "### **INFERENCE:**\n",
    "- It appears that the last 5 columns (i.e. columns: Y2014, Y2015, Y2016, Y2017, Y2018) contains null values\n",
    "- I would like to deep further by getting all the specific rows with missing values in the next code cell."
   ]
  },
  {
   "cell_type": "code",
   "execution_count": 6,
   "id": "5c6f19f0",
   "metadata": {},
   "outputs": [
    {
     "data": {
      "text/html": [
       "<div>\n",
       "<style scoped>\n",
       "    .dataframe tbody tr th:only-of-type {\n",
       "        vertical-align: middle;\n",
       "    }\n",
       "\n",
       "    .dataframe tbody tr th {\n",
       "        vertical-align: top;\n",
       "    }\n",
       "\n",
       "    .dataframe thead th {\n",
       "        text-align: right;\n",
       "    }\n",
       "</style>\n",
       "<table border=\"1\" class=\"dataframe\">\n",
       "  <thead>\n",
       "    <tr style=\"text-align: right;\">\n",
       "      <th></th>\n",
       "      <th>Area Code</th>\n",
       "      <th>Area</th>\n",
       "      <th>Item Code</th>\n",
       "      <th>Item</th>\n",
       "      <th>Element Code</th>\n",
       "      <th>Element</th>\n",
       "      <th>Unit</th>\n",
       "      <th>Y2014</th>\n",
       "      <th>Y2015</th>\n",
       "      <th>Y2016</th>\n",
       "      <th>Y2017</th>\n",
       "      <th>Y2018</th>\n",
       "    </tr>\n",
       "  </thead>\n",
       "  <tbody>\n",
       "    <tr>\n",
       "      <th>46</th>\n",
       "      <td>4</td>\n",
       "      <td>Algeria</td>\n",
       "      <td>2805</td>\n",
       "      <td>Rice and products</td>\n",
       "      <td>5911</td>\n",
       "      <td>Export Quantity</td>\n",
       "      <td>1000 tonnes</td>\n",
       "      <td>NaN</td>\n",
       "      <td>0.0</td>\n",
       "      <td>0.0</td>\n",
       "      <td>0.0</td>\n",
       "      <td>0.0</td>\n",
       "    </tr>\n",
       "    <tr>\n",
       "      <th>61</th>\n",
       "      <td>4</td>\n",
       "      <td>Algeria</td>\n",
       "      <td>2513</td>\n",
       "      <td>Barley and products</td>\n",
       "      <td>5911</td>\n",
       "      <td>Export Quantity</td>\n",
       "      <td>1000 tonnes</td>\n",
       "      <td>NaN</td>\n",
       "      <td>0.0</td>\n",
       "      <td>0.0</td>\n",
       "      <td>NaN</td>\n",
       "      <td>0.0</td>\n",
       "    </tr>\n",
       "    <tr>\n",
       "      <th>88</th>\n",
       "      <td>4</td>\n",
       "      <td>Algeria</td>\n",
       "      <td>2515</td>\n",
       "      <td>Rye and products</td>\n",
       "      <td>5611</td>\n",
       "      <td>Import Quantity</td>\n",
       "      <td>1000 tonnes</td>\n",
       "      <td>NaN</td>\n",
       "      <td>NaN</td>\n",
       "      <td>NaN</td>\n",
       "      <td>NaN</td>\n",
       "      <td>0.0</td>\n",
       "    </tr>\n",
       "    <tr>\n",
       "      <th>100</th>\n",
       "      <td>4</td>\n",
       "      <td>Algeria</td>\n",
       "      <td>2516</td>\n",
       "      <td>Oats</td>\n",
       "      <td>5911</td>\n",
       "      <td>Export Quantity</td>\n",
       "      <td>1000 tonnes</td>\n",
       "      <td>NaN</td>\n",
       "      <td>NaN</td>\n",
       "      <td>0.0</td>\n",
       "      <td>0.0</td>\n",
       "      <td>0.0</td>\n",
       "    </tr>\n",
       "    <tr>\n",
       "      <th>157</th>\n",
       "      <td>4</td>\n",
       "      <td>Algeria</td>\n",
       "      <td>2532</td>\n",
       "      <td>Cassava and products</td>\n",
       "      <td>5611</td>\n",
       "      <td>Import Quantity</td>\n",
       "      <td>1000 tonnes</td>\n",
       "      <td>0.0</td>\n",
       "      <td>NaN</td>\n",
       "      <td>0.0</td>\n",
       "      <td>0.0</td>\n",
       "      <td>NaN</td>\n",
       "    </tr>\n",
       "    <tr>\n",
       "      <th>...</th>\n",
       "      <td>...</td>\n",
       "      <td>...</td>\n",
       "      <td>...</td>\n",
       "      <td>...</td>\n",
       "      <td>...</td>\n",
       "      <td>...</td>\n",
       "      <td>...</td>\n",
       "      <td>...</td>\n",
       "      <td>...</td>\n",
       "      <td>...</td>\n",
       "      <td>...</td>\n",
       "      <td>...</td>\n",
       "    </tr>\n",
       "    <tr>\n",
       "      <th>60715</th>\n",
       "      <td>181</td>\n",
       "      <td>Zimbabwe</td>\n",
       "      <td>2743</td>\n",
       "      <td>Cream</td>\n",
       "      <td>5911</td>\n",
       "      <td>Export Quantity</td>\n",
       "      <td>1000 tonnes</td>\n",
       "      <td>0.0</td>\n",
       "      <td>NaN</td>\n",
       "      <td>0.0</td>\n",
       "      <td>0.0</td>\n",
       "      <td>NaN</td>\n",
       "    </tr>\n",
       "    <tr>\n",
       "      <th>60757</th>\n",
       "      <td>181</td>\n",
       "      <td>Zimbabwe</td>\n",
       "      <td>2949</td>\n",
       "      <td>Eggs</td>\n",
       "      <td>5911</td>\n",
       "      <td>Export Quantity</td>\n",
       "      <td>1000 tonnes</td>\n",
       "      <td>0.0</td>\n",
       "      <td>NaN</td>\n",
       "      <td>NaN</td>\n",
       "      <td>0.0</td>\n",
       "      <td>NaN</td>\n",
       "    </tr>\n",
       "    <tr>\n",
       "      <th>60761</th>\n",
       "      <td>181</td>\n",
       "      <td>Zimbabwe</td>\n",
       "      <td>2949</td>\n",
       "      <td>Eggs</td>\n",
       "      <td>5154</td>\n",
       "      <td>Other uses (non-food)</td>\n",
       "      <td>1000 tonnes</td>\n",
       "      <td>0.0</td>\n",
       "      <td>0.0</td>\n",
       "      <td>NaN</td>\n",
       "      <td>0.0</td>\n",
       "      <td>0.0</td>\n",
       "    </tr>\n",
       "    <tr>\n",
       "      <th>60771</th>\n",
       "      <td>181</td>\n",
       "      <td>Zimbabwe</td>\n",
       "      <td>2744</td>\n",
       "      <td>Eggs</td>\n",
       "      <td>5911</td>\n",
       "      <td>Export Quantity</td>\n",
       "      <td>1000 tonnes</td>\n",
       "      <td>0.0</td>\n",
       "      <td>NaN</td>\n",
       "      <td>NaN</td>\n",
       "      <td>0.0</td>\n",
       "      <td>NaN</td>\n",
       "    </tr>\n",
       "    <tr>\n",
       "      <th>60775</th>\n",
       "      <td>181</td>\n",
       "      <td>Zimbabwe</td>\n",
       "      <td>2744</td>\n",
       "      <td>Eggs</td>\n",
       "      <td>5154</td>\n",
       "      <td>Other uses (non-food)</td>\n",
       "      <td>1000 tonnes</td>\n",
       "      <td>0.0</td>\n",
       "      <td>0.0</td>\n",
       "      <td>NaN</td>\n",
       "      <td>0.0</td>\n",
       "      <td>0.0</td>\n",
       "    </tr>\n",
       "  </tbody>\n",
       "</table>\n",
       "<p>3159 rows × 12 columns</p>\n",
       "</div>"
      ],
      "text/plain": [
       "       Area Code      Area  Item Code                  Item  Element Code  \\\n",
       "46             4   Algeria       2805     Rice and products          5911   \n",
       "61             4   Algeria       2513   Barley and products          5911   \n",
       "88             4   Algeria       2515      Rye and products          5611   \n",
       "100            4   Algeria       2516                  Oats          5911   \n",
       "157            4   Algeria       2532  Cassava and products          5611   \n",
       "...          ...       ...        ...                   ...           ...   \n",
       "60715        181  Zimbabwe       2743                 Cream          5911   \n",
       "60757        181  Zimbabwe       2949                  Eggs          5911   \n",
       "60761        181  Zimbabwe       2949                  Eggs          5154   \n",
       "60771        181  Zimbabwe       2744                  Eggs          5911   \n",
       "60775        181  Zimbabwe       2744                  Eggs          5154   \n",
       "\n",
       "                     Element         Unit  Y2014  Y2015  Y2016  Y2017  Y2018  \n",
       "46           Export Quantity  1000 tonnes    NaN    0.0    0.0    0.0    0.0  \n",
       "61           Export Quantity  1000 tonnes    NaN    0.0    0.0    NaN    0.0  \n",
       "88           Import Quantity  1000 tonnes    NaN    NaN    NaN    NaN    0.0  \n",
       "100          Export Quantity  1000 tonnes    NaN    NaN    0.0    0.0    0.0  \n",
       "157          Import Quantity  1000 tonnes    0.0    NaN    0.0    0.0    NaN  \n",
       "...                      ...          ...    ...    ...    ...    ...    ...  \n",
       "60715        Export Quantity  1000 tonnes    0.0    NaN    0.0    0.0    NaN  \n",
       "60757        Export Quantity  1000 tonnes    0.0    NaN    NaN    0.0    NaN  \n",
       "60761  Other uses (non-food)  1000 tonnes    0.0    0.0    NaN    0.0    0.0  \n",
       "60771        Export Quantity  1000 tonnes    0.0    NaN    NaN    0.0    NaN  \n",
       "60775  Other uses (non-food)  1000 tonnes    0.0    0.0    NaN    0.0    0.0  \n",
       "\n",
       "[3159 rows x 12 columns]"
      ]
     },
     "execution_count": 6,
     "metadata": {},
     "output_type": "execute_result"
    }
   ],
   "source": [
    "rows_with_missing_values = data.isnull().any(axis=1)\n",
    "missing_data=data[rows_with_missing_values]\n",
    "missing_data"
   ]
  },
  {
   "cell_type": "markdown",
   "id": "aac83ea2",
   "metadata": {},
   "source": [
    "## **INFERENCE:**\n",
    "- It appears that there are 3,159 unique rows with missing values\n",
    "- Since, there were no specific instructions to fill the missing values, hence, I just intend to point this out."
   ]
  },
  {
   "cell_type": "markdown",
   "id": "d96bf215",
   "metadata": {},
   "source": [
    "## 5. Check for duplicates"
   ]
  },
  {
   "cell_type": "code",
   "execution_count": 7,
   "id": "a99474fa",
   "metadata": {},
   "outputs": [
    {
     "data": {
      "text/html": [
       "<div>\n",
       "<style scoped>\n",
       "    .dataframe tbody tr th:only-of-type {\n",
       "        vertical-align: middle;\n",
       "    }\n",
       "\n",
       "    .dataframe tbody tr th {\n",
       "        vertical-align: top;\n",
       "    }\n",
       "\n",
       "    .dataframe thead th {\n",
       "        text-align: right;\n",
       "    }\n",
       "</style>\n",
       "<table border=\"1\" class=\"dataframe\">\n",
       "  <thead>\n",
       "    <tr style=\"text-align: right;\">\n",
       "      <th></th>\n",
       "      <th>Area Code</th>\n",
       "      <th>Area</th>\n",
       "      <th>Item Code</th>\n",
       "      <th>Item</th>\n",
       "      <th>Element Code</th>\n",
       "      <th>Element</th>\n",
       "      <th>Unit</th>\n",
       "      <th>Y2014</th>\n",
       "      <th>Y2015</th>\n",
       "      <th>Y2016</th>\n",
       "      <th>Y2017</th>\n",
       "      <th>Y2018</th>\n",
       "    </tr>\n",
       "  </thead>\n",
       "  <tbody>\n",
       "  </tbody>\n",
       "</table>\n",
       "</div>"
      ],
      "text/plain": [
       "Empty DataFrame\n",
       "Columns: [Area Code, Area, Item Code, Item, Element Code, Element, Unit, Y2014, Y2015, Y2016, Y2017, Y2018]\n",
       "Index: []"
      ]
     },
     "execution_count": 7,
     "metadata": {},
     "output_type": "execute_result"
    }
   ],
   "source": [
    "duplicates = data.duplicated()\n",
    "data[duplicates]\n"
   ]
  },
  {
   "cell_type": "markdown",
   "id": "89f1ccf4",
   "metadata": {},
   "source": [
    "### **INFERENCE:**\n",
    "- It appears that there are no any duplicated records in the data set\n",
    "- I can bet that I am a step close to certifying as READY! for analysis"
   ]
  },
  {
   "cell_type": "markdown",
   "id": "38229b92",
   "metadata": {},
   "source": [
    "## 6. Check for data inconsistency among the columns\n",
    "- The dataset contains 4 columns with categorical values (Columns: Area, Item, Element, and Unit). Hence, it is important to check for value inconsitencies within each of these columns\n",
    "- Some of the useful functions to use here are **value_count** and **nunique()**"
   ]
  },
  {
   "cell_type": "code",
   "execution_count": 8,
   "id": "c8e1b751",
   "metadata": {},
   "outputs": [
    {
     "data": {
      "text/plain": [
       "Domestic supply quantity                  5295\n",
       "Import Quantity                           5139\n",
       "Protein supply quantity (g/capita/day)    5023\n",
       "Fat supply quantity (g/capita/day)        5023\n",
       "Food supply (kcal/capita/day)             5014\n",
       "Food                                      4941\n",
       "Food supply quantity (kg/capita/yr)       4905\n",
       "Residuals                                 4655\n",
       "Export Quantity                           4403\n",
       "Stock Variation                           4232\n",
       "Production                                3881\n",
       "Processing                                2010\n",
       "Losses                                    2009\n",
       "Other uses (non-food)                     1732\n",
       "Feed                                      1319\n",
       "Seed                                       762\n",
       "Tourist consumption                        555\n",
       "Total Population - Both sexes               45\n",
       "Name: Element, dtype: int64"
      ]
     },
     "execution_count": 8,
     "metadata": {},
     "output_type": "execute_result"
    }
   ],
   "source": [
    "#This would allow me to be able to view all the series, not allowing Python to shorten the display for me\n",
    "pd.set_option('display.max_rows', None)\n",
    "\n",
    "data['Element'].value_counts()"
   ]
  },
  {
   "cell_type": "markdown",
   "id": "7866d336",
   "metadata": {},
   "source": [
    "### **INFERENCE :**\n",
    "- Upon checking, there seems not to be any inconsistency among the values within the categorical columns (The **AREA** column as a case study)\n",
    "- To be better certify this conclusion, the metadata about the dataset would be helpful. For instance, the dataset metadata would contain information about the exact unique countries to expect in the dataset"
   ]
  },
  {
   "cell_type": "markdown",
   "id": "ffad29f1",
   "metadata": {},
   "source": [
    "## 7. Explore basic statistics of the data"
   ]
  },
  {
   "cell_type": "code",
   "execution_count": 9,
   "id": "36499b36",
   "metadata": {},
   "outputs": [
    {
     "data": {
      "text/html": [
       "<div>\n",
       "<style scoped>\n",
       "    .dataframe tbody tr th:only-of-type {\n",
       "        vertical-align: middle;\n",
       "    }\n",
       "\n",
       "    .dataframe tbody tr th {\n",
       "        vertical-align: top;\n",
       "    }\n",
       "\n",
       "    .dataframe thead th {\n",
       "        text-align: right;\n",
       "    }\n",
       "</style>\n",
       "<table border=\"1\" class=\"dataframe\">\n",
       "  <thead>\n",
       "    <tr style=\"text-align: right;\">\n",
       "      <th></th>\n",
       "      <th>Area Code</th>\n",
       "      <th>Item Code</th>\n",
       "      <th>Element Code</th>\n",
       "      <th>Y2014</th>\n",
       "      <th>Y2015</th>\n",
       "      <th>Y2016</th>\n",
       "      <th>Y2017</th>\n",
       "      <th>Y2018</th>\n",
       "    </tr>\n",
       "  </thead>\n",
       "  <tbody>\n",
       "    <tr>\n",
       "      <th>count</th>\n",
       "      <td>60943.000000</td>\n",
       "      <td>60943.000000</td>\n",
       "      <td>60943.000000</td>\n",
       "      <td>59354.000000</td>\n",
       "      <td>59395.000000</td>\n",
       "      <td>59408.000000</td>\n",
       "      <td>59437.000000</td>\n",
       "      <td>59507.000000</td>\n",
       "    </tr>\n",
       "    <tr>\n",
       "      <th>mean</th>\n",
       "      <td>134.265576</td>\n",
       "      <td>2687.176706</td>\n",
       "      <td>3814.856456</td>\n",
       "      <td>134.196282</td>\n",
       "      <td>135.235966</td>\n",
       "      <td>136.555222</td>\n",
       "      <td>140.917765</td>\n",
       "      <td>143.758381</td>\n",
       "    </tr>\n",
       "    <tr>\n",
       "      <th>std</th>\n",
       "      <td>72.605709</td>\n",
       "      <td>146.055739</td>\n",
       "      <td>2212.007033</td>\n",
       "      <td>1567.663696</td>\n",
       "      <td>1603.403984</td>\n",
       "      <td>1640.007194</td>\n",
       "      <td>1671.862359</td>\n",
       "      <td>1710.782658</td>\n",
       "    </tr>\n",
       "    <tr>\n",
       "      <th>min</th>\n",
       "      <td>4.000000</td>\n",
       "      <td>2501.000000</td>\n",
       "      <td>511.000000</td>\n",
       "      <td>-1796.000000</td>\n",
       "      <td>-3161.000000</td>\n",
       "      <td>-3225.000000</td>\n",
       "      <td>-1582.000000</td>\n",
       "      <td>-3396.000000</td>\n",
       "    </tr>\n",
       "    <tr>\n",
       "      <th>25%</th>\n",
       "      <td>74.000000</td>\n",
       "      <td>2562.000000</td>\n",
       "      <td>684.000000</td>\n",
       "      <td>0.000000</td>\n",
       "      <td>0.000000</td>\n",
       "      <td>0.000000</td>\n",
       "      <td>0.000000</td>\n",
       "      <td>0.000000</td>\n",
       "    </tr>\n",
       "    <tr>\n",
       "      <th>50%</th>\n",
       "      <td>136.000000</td>\n",
       "      <td>2630.000000</td>\n",
       "      <td>5142.000000</td>\n",
       "      <td>0.090000</td>\n",
       "      <td>0.080000</td>\n",
       "      <td>0.080000</td>\n",
       "      <td>0.100000</td>\n",
       "      <td>0.070000</td>\n",
       "    </tr>\n",
       "    <tr>\n",
       "      <th>75%</th>\n",
       "      <td>195.000000</td>\n",
       "      <td>2775.000000</td>\n",
       "      <td>5511.000000</td>\n",
       "      <td>8.340000</td>\n",
       "      <td>8.460000</td>\n",
       "      <td>8.430000</td>\n",
       "      <td>9.000000</td>\n",
       "      <td>9.000000</td>\n",
       "    </tr>\n",
       "    <tr>\n",
       "      <th>max</th>\n",
       "      <td>276.000000</td>\n",
       "      <td>2961.000000</td>\n",
       "      <td>5911.000000</td>\n",
       "      <td>176405.000000</td>\n",
       "      <td>181137.000000</td>\n",
       "      <td>185960.000000</td>\n",
       "      <td>190873.000000</td>\n",
       "      <td>195875.000000</td>\n",
       "    </tr>\n",
       "  </tbody>\n",
       "</table>\n",
       "</div>"
      ],
      "text/plain": [
       "          Area Code     Item Code  Element Code          Y2014          Y2015  \\\n",
       "count  60943.000000  60943.000000  60943.000000   59354.000000   59395.000000   \n",
       "mean     134.265576   2687.176706   3814.856456     134.196282     135.235966   \n",
       "std       72.605709    146.055739   2212.007033    1567.663696    1603.403984   \n",
       "min        4.000000   2501.000000    511.000000   -1796.000000   -3161.000000   \n",
       "25%       74.000000   2562.000000    684.000000       0.000000       0.000000   \n",
       "50%      136.000000   2630.000000   5142.000000       0.090000       0.080000   \n",
       "75%      195.000000   2775.000000   5511.000000       8.340000       8.460000   \n",
       "max      276.000000   2961.000000   5911.000000  176405.000000  181137.000000   \n",
       "\n",
       "               Y2016          Y2017          Y2018  \n",
       "count   59408.000000   59437.000000   59507.000000  \n",
       "mean      136.555222     140.917765     143.758381  \n",
       "std      1640.007194    1671.862359    1710.782658  \n",
       "min     -3225.000000   -1582.000000   -3396.000000  \n",
       "25%         0.000000       0.000000       0.000000  \n",
       "50%         0.080000       0.100000       0.070000  \n",
       "75%         8.430000       9.000000       9.000000  \n",
       "max    185960.000000  190873.000000  195875.000000  "
      ]
     },
     "execution_count": 9,
     "metadata": {},
     "output_type": "execute_result"
    }
   ],
   "source": [
    "data.describe()"
   ]
  },
  {
   "cell_type": "markdown",
   "id": "fc45eff8",
   "metadata": {},
   "source": [
    "### **INFERENCE:**\n",
    "- Here, we can observe the basic stats of the numerical columns.\n",
    "- For instance, the mean of the **Y2015** column is **135.24** (to two places of decimal)"
   ]
  },
  {
   "cell_type": "markdown",
   "id": "695ec404",
   "metadata": {},
   "source": [
    "## STEP THREE: PERFORM EXPLORATORY DATA ANLYSIS (EDA)\n",
    "- **QUESTION1:** Which year had the least correlation with 'Element Code'\n",
    "- **QUESTION3:** Select columns 'Y2017' and 'Area', Perform a groupby operation on Area. Which of these areas had the highest sum in Y2017?\n",
    "- **QUESTION7:** What is the total number and percentage of missing data in Y2014 to 3 decimal places?\n",
    "- **QUESTION8:** Select columns 'Y2017' and 'Area', Perform a groupby operation on Area. Which of these areas had the 7th lowest sum in Y2017?\n",
    "- **QUESTION9:** What is the total Protein supply quantity in Madagascar in 2015?\n",
    "- **QUESTION11:** What is the total sum of Wine produced in 2015 and 2018 respectively?(Perform a groupby sum aggregation on item)\n",
    "- **QUESTION14:** What is the mean and standard deviation across the whole dataset for the year 2017 to 2 decimal places?\n",
    "- **QUESTION16:** What is the total number of unique countries in the dataset?\n",
    "- **QUESTION17:** Perform a groupby operation on 'Element'. What is the total number of the sum of Processing in 2017?\n",
    "- **QUESTION19:** Perform a groupby operation on 'Element'. What year has the highest sum of stock variation?\n",
    "- **QUESTION20:** How would you check for the number of rows and columns in a pandas DataFrame named df?"
   ]
  },
  {
   "cell_type": "markdown",
   "id": "7651a7fa",
   "metadata": {},
   "source": [
    "## **QUESTION 1**\n",
    "- Which year had the least correlation with 'Element Code'"
   ]
  },
  {
   "cell_type": "code",
   "execution_count": 10,
   "id": "b90a9469",
   "metadata": {},
   "outputs": [
    {
     "name": "stdout",
     "output_type": "stream",
     "text": [
      "The year with the least correlation to 'Element Code' is Y2016 with a correlation coefficient of 0.02\n"
     ]
    }
   ],
   "source": [
    "# Identify the 'Element Code' column\n",
    "element_code_column = 'Element Code'\n",
    "\n",
    "# Identify the year columns (assuming they are labeled as 'YearYYYY')\n",
    "year_columns = [col for col in data.columns if col.startswith('Y')]\n",
    "\n",
    "# Initialize variables to store minimum correlation and corresponding year\n",
    "min_correlation = 1.0  # Set an initial high value\n",
    "min_correlation_year = None\n",
    "\n",
    "# Calculate correlations and find the year with the least correlation\n",
    "for year_column in year_columns:\n",
    "    correlation = data[element_code_column].corr(data[year_column])\n",
    "    if abs(correlation) < abs(min_correlation):\n",
    "        min_correlation = correlation\n",
    "        min_correlation_year = year_column\n",
    "\n",
    "# Print the year with the least correlation\n",
    "print(f\"The year with the least correlation to 'Element Code' is {min_correlation_year} with a correlation coefficient of {min_correlation:.2f}\")"
   ]
  },
  {
   "cell_type": "markdown",
   "id": "f8118e95",
   "metadata": {},
   "source": [
    "### ANSWER: Y2016"
   ]
  },
  {
   "cell_type": "markdown",
   "id": "a9df0c81",
   "metadata": {},
   "source": [
    "## QUESTION 3\n",
    "- Select columns 'Y2017' and 'Area', Perform a groupby operation on Area. Which of these areas had the highest sum in Y2017?"
   ]
  },
  {
   "cell_type": "code",
   "execution_count": 11,
   "id": "59e822b3",
   "metadata": {},
   "outputs": [
    {
     "name": "stdout",
     "output_type": "stream",
     "text": [
      "Area with the highest sum in Y2017:\n",
      "       Area       Y2017\n",
      "34  Nigeria  1483268.23\n"
     ]
    }
   ],
   "source": [
    "# Select columns 'Y2017' and 'Area'\n",
    "selected_columns1 = data[['Area', 'Y2017']]\n",
    "\n",
    "# Perform a groupby operation on 'Area' and calculate the sum for 'Y2017'\n",
    "grouped_data1 = selected_columns1.groupby('Area')['Y2017'].sum().reset_index()\n",
    "\n",
    "# Find the area with the highest sum in 'Y2017'\n",
    "max_area = grouped_data1[grouped_data1['Y2017'] == grouped_data1['Y2017'].max()]\n",
    "\n",
    "# Print the area with the highest sum in 'Y2017'\n",
    "print(\"Area with the highest sum in Y2017:\")\n",
    "print(max_area)\n"
   ]
  },
  {
   "cell_type": "markdown",
   "id": "f9846760",
   "metadata": {},
   "source": [
    "### ANSWER: **Nigeria**\n",
    "- Another way of simply getting the answer would by the method in the next code cell"
   ]
  },
  {
   "cell_type": "code",
   "execution_count": 12,
   "id": "f5167cf4",
   "metadata": {},
   "outputs": [
    {
     "data": {
      "text/html": [
       "<div>\n",
       "<style scoped>\n",
       "    .dataframe tbody tr th:only-of-type {\n",
       "        vertical-align: middle;\n",
       "    }\n",
       "\n",
       "    .dataframe tbody tr th {\n",
       "        vertical-align: top;\n",
       "    }\n",
       "\n",
       "    .dataframe thead th {\n",
       "        text-align: right;\n",
       "    }\n",
       "</style>\n",
       "<table border=\"1\" class=\"dataframe\">\n",
       "  <thead>\n",
       "    <tr style=\"text-align: right;\">\n",
       "      <th></th>\n",
       "      <th>Area</th>\n",
       "      <th>Y2017</th>\n",
       "    </tr>\n",
       "  </thead>\n",
       "  <tbody>\n",
       "    <tr>\n",
       "      <th>34</th>\n",
       "      <td>Nigeria</td>\n",
       "      <td>1483268.23</td>\n",
       "    </tr>\n",
       "    <tr>\n",
       "      <th>13</th>\n",
       "      <td>Egypt</td>\n",
       "      <td>866379.92</td>\n",
       "    </tr>\n",
       "    <tr>\n",
       "      <th>40</th>\n",
       "      <td>South Africa</td>\n",
       "      <td>517590.54</td>\n",
       "    </tr>\n",
       "    <tr>\n",
       "      <th>15</th>\n",
       "      <td>Ethiopia</td>\n",
       "      <td>448683.76</td>\n",
       "    </tr>\n",
       "    <tr>\n",
       "      <th>30</th>\n",
       "      <td>Morocco</td>\n",
       "      <td>388495.36</td>\n",
       "    </tr>\n",
       "    <tr>\n",
       "      <th>19</th>\n",
       "      <td>Ghana</td>\n",
       "      <td>337599.06</td>\n",
       "    </tr>\n",
       "    <tr>\n",
       "      <th>0</th>\n",
       "      <td>Algeria</td>\n",
       "      <td>325644.27</td>\n",
       "    </tr>\n",
       "    <tr>\n",
       "      <th>46</th>\n",
       "      <td>United Republic of Tanzania</td>\n",
       "      <td>322616.85</td>\n",
       "    </tr>\n",
       "    <tr>\n",
       "      <th>22</th>\n",
       "      <td>Kenya</td>\n",
       "      <td>264660.66</td>\n",
       "    </tr>\n",
       "    <tr>\n",
       "      <th>41</th>\n",
       "      <td>Sudan</td>\n",
       "      <td>239931.92</td>\n",
       "    </tr>\n",
       "    <tr>\n",
       "      <th>6</th>\n",
       "      <td>Cameroon</td>\n",
       "      <td>232030.43</td>\n",
       "    </tr>\n",
       "    <tr>\n",
       "      <th>1</th>\n",
       "      <td>Angola</td>\n",
       "      <td>229159.57</td>\n",
       "    </tr>\n",
       "    <tr>\n",
       "      <th>11</th>\n",
       "      <td>Côte d'Ivoire</td>\n",
       "      <td>224599.01</td>\n",
       "    </tr>\n",
       "    <tr>\n",
       "      <th>45</th>\n",
       "      <td>Uganda</td>\n",
       "      <td>213950.38</td>\n",
       "    </tr>\n",
       "    <tr>\n",
       "      <th>26</th>\n",
       "      <td>Malawi</td>\n",
       "      <td>181098.71</td>\n",
       "    </tr>\n",
       "    <tr>\n",
       "      <th>31</th>\n",
       "      <td>Mozambique</td>\n",
       "      <td>161407.98</td>\n",
       "    </tr>\n",
       "    <tr>\n",
       "      <th>28</th>\n",
       "      <td>Mauritania</td>\n",
       "      <td>156665.46</td>\n",
       "    </tr>\n",
       "    <tr>\n",
       "      <th>27</th>\n",
       "      <td>Mali</td>\n",
       "      <td>149928.33</td>\n",
       "    </tr>\n",
       "    <tr>\n",
       "      <th>25</th>\n",
       "      <td>Madagascar</td>\n",
       "      <td>131197.73</td>\n",
       "    </tr>\n",
       "    <tr>\n",
       "      <th>33</th>\n",
       "      <td>Niger</td>\n",
       "      <td>126707.58</td>\n",
       "    </tr>\n",
       "    <tr>\n",
       "      <th>2</th>\n",
       "      <td>Benin</td>\n",
       "      <td>124771.22</td>\n",
       "    </tr>\n",
       "    <tr>\n",
       "      <th>44</th>\n",
       "      <td>Tunisia</td>\n",
       "      <td>124167.20</td>\n",
       "    </tr>\n",
       "    <tr>\n",
       "      <th>47</th>\n",
       "      <td>Zambia</td>\n",
       "      <td>103223.77</td>\n",
       "    </tr>\n",
       "    <tr>\n",
       "      <th>4</th>\n",
       "      <td>Burkina Faso</td>\n",
       "      <td>101855.07</td>\n",
       "    </tr>\n",
       "    <tr>\n",
       "      <th>20</th>\n",
       "      <td>Guinea</td>\n",
       "      <td>98138.87</td>\n",
       "    </tr>\n",
       "    <tr>\n",
       "      <th>37</th>\n",
       "      <td>Senegal</td>\n",
       "      <td>95681.15</td>\n",
       "    </tr>\n",
       "    <tr>\n",
       "      <th>48</th>\n",
       "      <td>Zimbabwe</td>\n",
       "      <td>75919.34</td>\n",
       "    </tr>\n",
       "    <tr>\n",
       "      <th>35</th>\n",
       "      <td>Rwanda</td>\n",
       "      <td>73663.69</td>\n",
       "    </tr>\n",
       "    <tr>\n",
       "      <th>8</th>\n",
       "      <td>Chad</td>\n",
       "      <td>71594.68</td>\n",
       "    </tr>\n",
       "    <tr>\n",
       "      <th>39</th>\n",
       "      <td>Sierra Leone</td>\n",
       "      <td>55311.33</td>\n",
       "    </tr>\n",
       "    <tr>\n",
       "      <th>14</th>\n",
       "      <td>Eswatini</td>\n",
       "      <td>54343.33</td>\n",
       "    </tr>\n",
       "    <tr>\n",
       "      <th>29</th>\n",
       "      <td>Mauritius</td>\n",
       "      <td>51114.83</td>\n",
       "    </tr>\n",
       "    <tr>\n",
       "      <th>43</th>\n",
       "      <td>Togo</td>\n",
       "      <td>49841.88</td>\n",
       "    </tr>\n",
       "    <tr>\n",
       "      <th>10</th>\n",
       "      <td>Congo</td>\n",
       "      <td>41181.68</td>\n",
       "    </tr>\n",
       "    <tr>\n",
       "      <th>7</th>\n",
       "      <td>Central African Republic</td>\n",
       "      <td>29937.00</td>\n",
       "    </tr>\n",
       "    <tr>\n",
       "      <th>32</th>\n",
       "      <td>Namibia</td>\n",
       "      <td>29874.89</td>\n",
       "    </tr>\n",
       "    <tr>\n",
       "      <th>24</th>\n",
       "      <td>Liberia</td>\n",
       "      <td>29342.20</td>\n",
       "    </tr>\n",
       "    <tr>\n",
       "      <th>17</th>\n",
       "      <td>Gabon</td>\n",
       "      <td>27979.64</td>\n",
       "    </tr>\n",
       "    <tr>\n",
       "      <th>18</th>\n",
       "      <td>Gambia</td>\n",
       "      <td>23154.18</td>\n",
       "    </tr>\n",
       "    <tr>\n",
       "      <th>12</th>\n",
       "      <td>Djibouti</td>\n",
       "      <td>22729.91</td>\n",
       "    </tr>\n",
       "    <tr>\n",
       "      <th>3</th>\n",
       "      <td>Botswana</td>\n",
       "      <td>22101.30</td>\n",
       "    </tr>\n",
       "    <tr>\n",
       "      <th>23</th>\n",
       "      <td>Lesotho</td>\n",
       "      <td>21267.96</td>\n",
       "    </tr>\n",
       "    <tr>\n",
       "      <th>21</th>\n",
       "      <td>Guinea-Bissau</td>\n",
       "      <td>19102.77</td>\n",
       "    </tr>\n",
       "    <tr>\n",
       "      <th>5</th>\n",
       "      <td>Cabo Verde</td>\n",
       "      <td>14650.74</td>\n",
       "    </tr>\n",
       "    <tr>\n",
       "      <th>36</th>\n",
       "      <td>Sao Tome and Principe</td>\n",
       "      <td>12662.63</td>\n",
       "    </tr>\n",
       "    <tr>\n",
       "      <th>38</th>\n",
       "      <td>Seychelles</td>\n",
       "      <td>442.34</td>\n",
       "    </tr>\n",
       "    <tr>\n",
       "      <th>9</th>\n",
       "      <td>Comoros</td>\n",
       "      <td>59.84</td>\n",
       "    </tr>\n",
       "    <tr>\n",
       "      <th>42</th>\n",
       "      <td>Sudan (former)</td>\n",
       "      <td>0.00</td>\n",
       "    </tr>\n",
       "    <tr>\n",
       "      <th>16</th>\n",
       "      <td>Ethiopia PDR</td>\n",
       "      <td>0.00</td>\n",
       "    </tr>\n",
       "  </tbody>\n",
       "</table>\n",
       "</div>"
      ],
      "text/plain": [
       "                           Area       Y2017\n",
       "34                      Nigeria  1483268.23\n",
       "13                        Egypt   866379.92\n",
       "40                 South Africa   517590.54\n",
       "15                     Ethiopia   448683.76\n",
       "30                      Morocco   388495.36\n",
       "19                        Ghana   337599.06\n",
       "0                       Algeria   325644.27\n",
       "46  United Republic of Tanzania   322616.85\n",
       "22                        Kenya   264660.66\n",
       "41                        Sudan   239931.92\n",
       "6                      Cameroon   232030.43\n",
       "1                        Angola   229159.57\n",
       "11                Côte d'Ivoire   224599.01\n",
       "45                       Uganda   213950.38\n",
       "26                       Malawi   181098.71\n",
       "31                   Mozambique   161407.98\n",
       "28                   Mauritania   156665.46\n",
       "27                         Mali   149928.33\n",
       "25                   Madagascar   131197.73\n",
       "33                        Niger   126707.58\n",
       "2                         Benin   124771.22\n",
       "44                      Tunisia   124167.20\n",
       "47                       Zambia   103223.77\n",
       "4                  Burkina Faso   101855.07\n",
       "20                       Guinea    98138.87\n",
       "37                      Senegal    95681.15\n",
       "48                     Zimbabwe    75919.34\n",
       "35                       Rwanda    73663.69\n",
       "8                          Chad    71594.68\n",
       "39                 Sierra Leone    55311.33\n",
       "14                     Eswatini    54343.33\n",
       "29                    Mauritius    51114.83\n",
       "43                         Togo    49841.88\n",
       "10                        Congo    41181.68\n",
       "7      Central African Republic    29937.00\n",
       "32                      Namibia    29874.89\n",
       "24                      Liberia    29342.20\n",
       "17                        Gabon    27979.64\n",
       "18                       Gambia    23154.18\n",
       "12                     Djibouti    22729.91\n",
       "3                      Botswana    22101.30\n",
       "23                      Lesotho    21267.96\n",
       "21                Guinea-Bissau    19102.77\n",
       "5                    Cabo Verde    14650.74\n",
       "36        Sao Tome and Principe    12662.63\n",
       "38                   Seychelles      442.34\n",
       "9                       Comoros       59.84\n",
       "42               Sudan (former)        0.00\n",
       "16                 Ethiopia PDR        0.00"
      ]
     },
     "execution_count": 12,
     "metadata": {},
     "output_type": "execute_result"
    }
   ],
   "source": [
    "grouped_data1.sort_values(by='Y2017', ascending=False)"
   ]
  },
  {
   "cell_type": "markdown",
   "id": "e904e6ee",
   "metadata": {},
   "source": [
    "### QUESTION 7\n",
    "-  What is the total number and percentage of missing data in Y2014 to 3 decimal places?"
   ]
  },
  {
   "cell_type": "code",
   "execution_count": 13,
   "id": "9f9c14bc",
   "metadata": {},
   "outputs": [
    {
     "name": "stdout",
     "output_type": "stream",
     "text": [
      "Total number of missing data in Y2014: 1589\n",
      "Percentage of missing data in Y2014: 2.607%\n"
     ]
    }
   ],
   "source": [
    "total_rows = len(data)\n",
    "missing_Y2014_count = data['Y2014'].isnull().sum()\n",
    "percent_of_missing_Y2014_count = (missing_Y2014_count/total_rows) *100\n",
    "\n",
    "\n",
    "# Print the results\n",
    "print(f\"Total number of missing data in Y2014: {missing_Y2014_count}\")\n",
    "print(f\"Percentage of missing data in Y2014: {percent_of_missing_Y2014_count:.3f}%\")"
   ]
  },
  {
   "cell_type": "markdown",
   "id": "a61f739c",
   "metadata": {},
   "source": [
    "### ANSWER\n",
    "- Total number of missing data in Y2014: 1589\n",
    "- Percentage of missing data in Y2014: 2.607%"
   ]
  },
  {
   "cell_type": "markdown",
   "id": "4a5e6f42",
   "metadata": {},
   "source": [
    "## QUESTION 8\n",
    "- Select columns 'Y2017' and 'Area' and perform a groupby operation on Area\n",
    "- Which of these areas had the 7th lowest sum in Y2017?"
   ]
  },
  {
   "cell_type": "code",
   "execution_count": 15,
   "id": "faf76074",
   "metadata": {},
   "outputs": [
    {
     "data": {
      "text/html": [
       "<div>\n",
       "<style scoped>\n",
       "    .dataframe tbody tr th:only-of-type {\n",
       "        vertical-align: middle;\n",
       "    }\n",
       "\n",
       "    .dataframe tbody tr th {\n",
       "        vertical-align: top;\n",
       "    }\n",
       "\n",
       "    .dataframe thead th {\n",
       "        text-align: right;\n",
       "    }\n",
       "</style>\n",
       "<table border=\"1\" class=\"dataframe\">\n",
       "  <thead>\n",
       "    <tr style=\"text-align: right;\">\n",
       "      <th></th>\n",
       "      <th>Area</th>\n",
       "      <th>Y2017</th>\n",
       "    </tr>\n",
       "  </thead>\n",
       "  <tbody>\n",
       "    <tr>\n",
       "      <th>42</th>\n",
       "      <td>Sudan (former)</td>\n",
       "      <td>0.00</td>\n",
       "    </tr>\n",
       "    <tr>\n",
       "      <th>16</th>\n",
       "      <td>Ethiopia PDR</td>\n",
       "      <td>0.00</td>\n",
       "    </tr>\n",
       "    <tr>\n",
       "      <th>9</th>\n",
       "      <td>Comoros</td>\n",
       "      <td>59.84</td>\n",
       "    </tr>\n",
       "    <tr>\n",
       "      <th>38</th>\n",
       "      <td>Seychelles</td>\n",
       "      <td>442.34</td>\n",
       "    </tr>\n",
       "    <tr>\n",
       "      <th>36</th>\n",
       "      <td>Sao Tome and Principe</td>\n",
       "      <td>12662.63</td>\n",
       "    </tr>\n",
       "    <tr>\n",
       "      <th>5</th>\n",
       "      <td>Cabo Verde</td>\n",
       "      <td>14650.74</td>\n",
       "    </tr>\n",
       "    <tr>\n",
       "      <th>21</th>\n",
       "      <td>Guinea-Bissau</td>\n",
       "      <td>19102.77</td>\n",
       "    </tr>\n",
       "    <tr>\n",
       "      <th>23</th>\n",
       "      <td>Lesotho</td>\n",
       "      <td>21267.96</td>\n",
       "    </tr>\n",
       "  </tbody>\n",
       "</table>\n",
       "</div>"
      ],
      "text/plain": [
       "                     Area     Y2017\n",
       "42         Sudan (former)      0.00\n",
       "16           Ethiopia PDR      0.00\n",
       "9                 Comoros     59.84\n",
       "38             Seychelles    442.34\n",
       "36  Sao Tome and Principe  12662.63\n",
       "5              Cabo Verde  14650.74\n",
       "21          Guinea-Bissau  19102.77\n",
       "23                Lesotho  21267.96"
      ]
     },
     "execution_count": 15,
     "metadata": {},
     "output_type": "execute_result"
    }
   ],
   "source": [
    "#Very similar solution algorithm to QUESTION 3\n",
    "# Select columns 'Y2017' and 'Area'\n",
    "selected_columns2 = data[['Area', 'Y2017']]\n",
    "\n",
    "# Perform a groupby operation on 'Area' and calculate the sum for 'Y2017'\n",
    "grouped_data2 = selected_columns2.groupby('Area')['Y2017'].sum().reset_index()\n",
    "\n",
    "# Find the area with the lowest sum in 'Y2017'\n",
    "min_area = grouped_data2[grouped_data2['Y2017'] == grouped_data2['Y2017'].min()]\n",
    "\n",
    "# Print the area with the lowest sum in 'Y2017'\n",
    "#print(\"Area with the lowest sum in Y2017:\")\n",
    "#print(min_area)\n",
    "\n",
    "grouped_data2.sort_values(by='Y2017').head(8)"
   ]
  },
  {
   "cell_type": "markdown",
   "id": "3d9b94cb",
   "metadata": {},
   "source": [
    "### ANSWER\n",
    "- From the result above, **GUINEA-BISSAU** is the Area with the 7th lowest sum"
   ]
  },
  {
   "cell_type": "markdown",
   "id": "64f0a041",
   "metadata": {},
   "source": [
    "## QUESTION 9\n",
    "- What is the total Protein supply quantity in Madagascar in 2015?"
   ]
  },
  {
   "cell_type": "code",
   "execution_count": 17,
   "id": "8a36820f",
   "metadata": {},
   "outputs": [
    {
     "name": "stdout",
     "output_type": "stream",
     "text": [
      "The total Protein supply quantity in Madagascar in 2015 is: \n",
      "\n",
      "Area Code                                                   14319\n",
      "Area            MadagascarMadagascarMadagascarMadagascarMadaga...\n",
      "Item Code                                                  299405\n",
      "Item            Grand TotalVegetal ProductsAnimal ProductsCere...\n",
      "Element Code                                                74814\n",
      "Element         Protein supply quantity (g/capita/day)Protein ...\n",
      "Unit            g/capita/dayg/capita/dayg/capita/dayg/capita/d...\n",
      "Y2014                                                      177.79\n",
      "Y2015                                                      173.05\n",
      "Y2016                                                       173.4\n",
      "Y2017                                                      175.75\n",
      "Y2018                                                      176.64\n",
      "dtype: object\n"
     ]
    }
   ],
   "source": [
    "# Filter the DataFrame to include only rows where 'Area' is 'Madagascar' and 'Year' is 2015\n",
    "filtered_data = data[(data['Area'] == 'Madagascar')]\n",
    "\n",
    "filtered_data\n",
    "\n",
    "# Calculate the total Protein supply quantity for Madagascar in 2015\n",
    "total_protein_supply = filtered_data[filtered_data['Element']=='Protein supply quantity (g/capita/day)'].sum()\n",
    "\n",
    "# Print the result\n",
    "print(\"The total Protein supply quantity in Madagascar in 2015 is: \")\n",
    "print(f\"\\n{total_protein_supply}\")\n"
   ]
  },
  {
   "cell_type": "markdown",
   "id": "8ee7b3ef",
   "metadata": {},
   "source": [
    "### ANSWER\n",
    "- From the result above, the total protein supply quantity for Madasgar in 2015 is 173.05"
   ]
  },
  {
   "cell_type": "markdown",
   "id": "971dcd49",
   "metadata": {},
   "source": [
    "## QUESTION 11\n",
    "- What is the total sum of Wine produced in 2015 and 2018 respectively?(Perform a groupby sum aggregation on item)"
   ]
  },
  {
   "cell_type": "code",
   "execution_count": 18,
   "id": "2c4559dc",
   "metadata": {},
   "outputs": [
    {
     "name": "stderr",
     "output_type": "stream",
     "text": [
      "C:\\Users\\msunmola\\AppData\\Local\\Temp\\ipykernel_14764\\3617239110.py:5: FutureWarning: Indexing with multiple keys (implicitly converted to a tuple of keys) will be deprecated, use a list instead.\n",
      "  grouped_data3 = selected_columns3.groupby('Item')['Y2015', 'Y2018'].sum().reset_index()\n"
     ]
    },
    {
     "data": {
      "text/html": [
       "<div>\n",
       "<style scoped>\n",
       "    .dataframe tbody tr th:only-of-type {\n",
       "        vertical-align: middle;\n",
       "    }\n",
       "\n",
       "    .dataframe tbody tr th {\n",
       "        vertical-align: top;\n",
       "    }\n",
       "\n",
       "    .dataframe thead th {\n",
       "        text-align: right;\n",
       "    }\n",
       "</style>\n",
       "<table border=\"1\" class=\"dataframe\">\n",
       "  <thead>\n",
       "    <tr style=\"text-align: right;\">\n",
       "      <th></th>\n",
       "      <th>Item</th>\n",
       "      <th>Y2015</th>\n",
       "      <th>Y2018</th>\n",
       "    </tr>\n",
       "  </thead>\n",
       "  <tbody>\n",
       "    <tr>\n",
       "      <th>117</th>\n",
       "      <td>Wine</td>\n",
       "      <td>4251.81</td>\n",
       "      <td>4039.32</td>\n",
       "    </tr>\n",
       "  </tbody>\n",
       "</table>\n",
       "</div>"
      ],
      "text/plain": [
       "     Item    Y2015    Y2018\n",
       "117  Wine  4251.81  4039.32"
      ]
     },
     "execution_count": 18,
     "metadata": {},
     "output_type": "execute_result"
    }
   ],
   "source": [
    "selected_columns3 = data[['Item', 'Y2015', 'Y2018']]\n",
    "selected_columns3\n",
    "\n",
    "\n",
    "grouped_data3 = selected_columns3.groupby('Item')['Y2015', 'Y2018'].sum().reset_index()\n",
    "grouped_data3\n",
    "\n",
    "\n",
    "wine_produced = grouped_data3[grouped_data3['Item'] == 'Wine']\n",
    "\n",
    "wine_produced\n"
   ]
  },
  {
   "cell_type": "markdown",
   "id": "85b81fe2",
   "metadata": {},
   "source": [
    "### ANSWER\n",
    "- The sum of wine produced in 2015 is 4251.81\n",
    "- The sum of wine produced in 2018 is 4039.32"
   ]
  },
  {
   "cell_type": "markdown",
   "id": "5f32ec80",
   "metadata": {},
   "source": [
    "## QUESTION 14\n",
    "- What is the mean and standard deviation across the whole dataset for the year 2017 to 2 decimal places?"
   ]
  },
  {
   "cell_type": "code",
   "execution_count": 19,
   "id": "154cc2a2",
   "metadata": {},
   "outputs": [
    {
     "data": {
      "text/plain": [
       "count     59437.00\n",
       "mean        140.92\n",
       "std        1671.86\n",
       "min       -1582.00\n",
       "25%           0.00\n",
       "50%           0.10\n",
       "75%           9.00\n",
       "max      190873.00\n",
       "Name: Y2017, dtype: float64"
      ]
     },
     "execution_count": 19,
     "metadata": {},
     "output_type": "execute_result"
    }
   ],
   "source": [
    "data['Y2017'].describe().round(2)"
   ]
  },
  {
   "cell_type": "markdown",
   "id": "f1843565",
   "metadata": {},
   "source": [
    "### ANSWER\n",
    "- The **mean** and **standard deviation** across the whole dataset for Y2017 are **140.92** and **1671.86** respectively"
   ]
  },
  {
   "cell_type": "markdown",
   "id": "5dbc29e4",
   "metadata": {},
   "source": [
    "## QUESTION 16\n",
    "- What is the total number of unique countries in the dataset?"
   ]
  },
  {
   "cell_type": "code",
   "execution_count": 20,
   "id": "ca508920",
   "metadata": {},
   "outputs": [
    {
     "data": {
      "text/plain": [
       "49"
      ]
     },
     "execution_count": 20,
     "metadata": {},
     "output_type": "execute_result"
    }
   ],
   "source": [
    "data['Area'].nunique()"
   ]
  },
  {
   "cell_type": "markdown",
   "id": "fa754e3b",
   "metadata": {},
   "source": [
    "### ANSWER\n",
    "- The total number of unique countries in the dataset is **49**"
   ]
  },
  {
   "cell_type": "markdown",
   "id": "6da52e12",
   "metadata": {},
   "source": [
    "## QUESTION 17\n",
    "- Perform a groupby operation on 'Element'\n",
    "- What is the total number of the sum of Processing in 2017?"
   ]
  },
  {
   "cell_type": "code",
   "execution_count": 21,
   "id": "95429570",
   "metadata": {},
   "outputs": [
    {
     "data": {
      "text/plain": [
       "Element\n",
       "Domestic supply quantity                  2088198.10\n",
       "Export Quantity                            182338.80\n",
       "Fat supply quantity (g/capita/day)          10253.84\n",
       "Feed                                       223705.68\n",
       "Food                                      1258888.28\n",
       "Food supply (kcal/capita/day)              454681.00\n",
       "Food supply quantity (kg/capita/yr)         48690.04\n",
       "Import Quantity                            294559.09\n",
       "Losses                                     160614.00\n",
       "Other uses (non-food)                       91645.97\n",
       "Processing                                 292836.00\n",
       "Production                                2030056.89\n",
       "Protein supply quantity (g/capita/day)      11842.45\n",
       "Residuals                                   35500.00\n",
       "Seed                                        24870.14\n",
       "Stock Variation                             54316.91\n",
       "Total Population - Both sexes             1112641.00\n",
       "Tourist consumption                            91.00\n",
       "Name: Y2017, dtype: float64"
      ]
     },
     "execution_count": 21,
     "metadata": {},
     "output_type": "execute_result"
    }
   ],
   "source": [
    "selected_columns4= data[['Item', 'Element', 'Y2017']]\n",
    "selected_columns4\n",
    "\n",
    "\n",
    "grouped_data4 =selected_columns4.groupby('Element')['Y2017'].sum()\n",
    "grouped_data4\n"
   ]
  },
  {
   "cell_type": "markdown",
   "id": "ed8cb5bd",
   "metadata": {},
   "source": [
    "### ANSWER\n",
    "- From the result above, the total sum of Processing is **292836.00**"
   ]
  },
  {
   "cell_type": "markdown",
   "id": "6676054c",
   "metadata": {},
   "source": [
    "## QUESTION 19\n",
    "- Perform a groupby operation on 'Element'\n",
    "- What year has the highest sum of stock variation?"
   ]
  },
  {
   "cell_type": "code",
   "execution_count": 22,
   "id": "fe8b0141",
   "metadata": {},
   "outputs": [
    {
     "name": "stderr",
     "output_type": "stream",
     "text": [
      "C:\\Users\\msunmola\\AppData\\Local\\Temp\\ipykernel_14764\\3659313714.py:5: FutureWarning: Indexing with multiple keys (implicitly converted to a tuple of keys) will be deprecated, use a list instead.\n",
      "  grouped_data5 =selected_column5.groupby('Element')['Y2014','Y2015', 'Y2016', 'Y2017', 'Y2018'].sum().max()\n"
     ]
    },
    {
     "data": {
      "text/plain": [
       "Y2014    1996716.35\n",
       "Y2015    2021493.55\n",
       "Y2016    2044842.70\n",
       "Y2017    2088198.10\n",
       "Y2018    2161192.10\n",
       "dtype: float64"
      ]
     },
     "execution_count": 22,
     "metadata": {},
     "output_type": "execute_result"
    }
   ],
   "source": [
    "selected_column5= data[['Element', 'Y2014','Y2015', 'Y2016', 'Y2017', 'Y2018']]\n",
    "\n",
    "\n",
    "\n",
    "grouped_data5 =selected_column5.groupby('Element')['Y2014','Y2015', 'Y2016', 'Y2017', 'Y2018'].sum().max()\n",
    "grouped_data5"
   ]
  },
  {
   "cell_type": "markdown",
   "id": "ddfb347f",
   "metadata": {},
   "source": [
    "### ANSWER\n",
    "- 2018"
   ]
  },
  {
   "cell_type": "markdown",
   "id": "e4ed3c44",
   "metadata": {},
   "source": [
    "## QUESTION 20\n",
    "- How would you check for the number of rows and columns in a pandas DataFrame named df?"
   ]
  },
  {
   "cell_type": "code",
   "execution_count": 23,
   "id": "8dda5994",
   "metadata": {},
   "outputs": [
    {
     "data": {
      "text/plain": [
       "(60943, 12)"
      ]
     },
     "execution_count": 23,
     "metadata": {},
     "output_type": "execute_result"
    }
   ],
   "source": [
    "data.shape"
   ]
  },
  {
   "cell_type": "markdown",
   "id": "8ddd1841",
   "metadata": {},
   "source": [
    "### ANSWER\n",
    "- The shape method is used to check for the number of rows and columns.\n",
    "- The result above shows the dataset is having **60943** rows and **12** columns"
   ]
  }
 ],
 "metadata": {
  "kernelspec": {
   "display_name": "Python 3 (ipykernel)",
   "language": "python",
   "name": "python3"
  },
  "language_info": {
   "codemirror_mode": {
    "name": "ipython",
    "version": 3
   },
   "file_extension": ".py",
   "mimetype": "text/x-python",
   "name": "python",
   "nbconvert_exporter": "python",
   "pygments_lexer": "ipython3",
   "version": "3.10.9"
  }
 },
 "nbformat": 4,
 "nbformat_minor": 5
}
